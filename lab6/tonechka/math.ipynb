{
 "cells": [
  {
   "cell_type": "code",
   "execution_count": 3,
   "metadata": {},
   "outputs": [
    {
     "name": "stdout",
     "output_type": "stream",
     "text": [
      "2.0\n"
     ]
    }
   ],
   "source": [
    "import math\n",
    "x_z = int(input())\n",
    "x_f = math.exp(x_z)\n",
    "y = 0\n",
    "first = (2*(x_f**3))+(3*(y**2))\n",
    "second = abs(x_f-y)\n",
    "third = (x_f-y)**2\n",
    "\n",
    "if x_f > abs(y):\n",
    "    print(first)\n",
    "if 3 < x_f < abs(y):\n",
    "    print(second)\n",
    "if x_f == abs(y):\n",
    "    print(third)\n",
    "# vh"
   ]
  }
 ],
 "metadata": {
  "kernelspec": {
   "display_name": "Python 3",
   "language": "python",
   "name": "python3"
  },
  "language_info": {
   "codemirror_mode": {
    "name": "ipython",
    "version": 3
   },
   "file_extension": ".py",
   "mimetype": "text/x-python",
   "name": "python",
   "nbconvert_exporter": "python",
   "pygments_lexer": "ipython3",
   "version": "3.11.3"
  },
  "orig_nbformat": 4
 },
 "nbformat": 4,
 "nbformat_minor": 2
}
